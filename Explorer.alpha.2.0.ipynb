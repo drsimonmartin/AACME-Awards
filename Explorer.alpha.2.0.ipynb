{
  "cells": [
    {
      "cell_type": "code",
      "source": [
        "from jupyter_dash import JupyterDash\n",
        "import dash_core_components as dcc\n",
        "import dash_html_components as html\n",
        "from dash.dependencies import Input, Output\n",
        "import plotly.express as px\n",
        "import plotly.graph_objects as go\n",
        "import pandas as pd\n",
        "# need to deal with O365 access\n",
        "from office365.runtime.auth.authentication_context import AuthenticationContext\n",
        "from office365.sharepoint.client_context import ClientContext\n",
        "\n",
        "external_stylesheets = ['https://codepen.io/chriddyp/pen/bWLwgP.css']\n",
        "\n",
        "app = JupyterDash(__name__, external_stylesheets=external_stylesheets)\n",
        "\n",
        "df = pd.read_csv('AwardsBySchool-3.csv')\n",
        "#df.head()"
      ],
      "outputs": [],
      "execution_count": 6,
      "metadata": {
        "collapsed": true,
        "jupyter": {
          "source_hidden": false,
          "outputs_hidden": false
        },
        "nteract": {
          "transient": {
            "deleting": false
          }
        },
        "execution": {
          "iopub.status.busy": "2020-07-16T10:12:57.570Z",
          "iopub.execute_input": "2020-07-16T10:12:57.575Z",
          "iopub.status.idle": "2020-07-16T10:12:57.596Z",
          "shell.execute_reply": "2020-07-16T10:12:57.601Z"
        }
      }
    },
    {
      "cell_type": "code",
      "source": [
        "# convert date column to something that pandas understands\n",
        "df[\"Award Date\"] = pd.to_datetime(df[\"Award Date\"])\n",
        "df['Year'] = pd.DatetimeIndex(df['Award Date']).year  # add year column\n",
        "#df.head()"
      ],
      "outputs": [],
      "execution_count": 7,
      "metadata": {
        "collapsed": true,
        "jupyter": {
          "source_hidden": false,
          "outputs_hidden": false
        },
        "nteract": {
          "transient": {
            "deleting": false
          }
        },
        "execution": {
          "iopub.status.busy": "2020-07-16T10:12:59.885Z",
          "iopub.execute_input": "2020-07-16T10:12:59.889Z",
          "iopub.status.idle": "2020-07-16T10:12:59.896Z",
          "shell.execute_reply": "2020-07-16T10:12:59.909Z"
        }
      }
    },
    {
      "cell_type": "code",
      "source": [
        "available_programmes = df['Programme Title'].unique()\n",
        "available_years =  df['Year'].unique()\n",
        "degree_types = df['Award Short Name'].unique()\n",
        "degree_classes = df['Class Name Short'].unique()"
      ],
      "outputs": [],
      "execution_count": 8,
      "metadata": {
        "collapsed": true,
        "jupyter": {
          "source_hidden": false,
          "outputs_hidden": false
        },
        "nteract": {
          "transient": {
            "deleting": false
          }
        },
        "execution": {
          "iopub.status.busy": "2020-07-16T10:13:02.149Z",
          "iopub.execute_input": "2020-07-16T10:13:02.152Z",
          "iopub.status.idle": "2020-07-16T10:13:02.160Z",
          "shell.execute_reply": "2020-07-16T10:13:02.164Z"
        }
      }
    },
    {
      "cell_type": "code",
      "source": [
        "app.layout = html.Div([\n",
        "    html.Div([\n",
        "\n",
        "        html.Div([\n",
        "            dcc.Dropdown(\n",
        "                id='programme-name',\n",
        "                options=[{'label': i, 'value': i} for i in available_programmes],\n",
        "                value='Aeronatical Engineering'\n",
        "            ),\n",
        "            dcc.RadioItems(\n",
        "                id='summary-type',\n",
        "                options=[{'label': i, 'value': i} for i in ['Combined', 'MEng/BEng split']],\n",
        "                value='Linear',\n",
        "                labelStyle={'display': 'inline-block'}\n",
        "            )\n",
        "        ],\n",
        "        style={'width': '48%', 'display': 'inline-block'}),\n",
        "\n",
        "\n",
        "    dcc.Graph(id='indicator-graphic'),\n",
        "\n",
        "    dcc.Slider(\n",
        "        id='year--slider',\n",
        "        min=df['Year'].min(),\n",
        "        max=df['Year'].max(),\n",
        "        value=df['Year'].max(),\n",
        "        marks={str(year): str(year) for year in df['Year'].unique()},\n",
        "        step=None\n",
        "    )\n",
        "]),])\n",
        "\n",
        "  \n",
        "@app.callback(\n",
        "    Output('indicator-graphic', 'figure'),\n",
        "    [Input('programme-name', 'value'),\n",
        "     Input('year--slider', 'value'),\n",
        "     Input('summary-type','value')])\n",
        "# there should be a function parameter for each of the above inputs. These are positional, so order matters rather than name.\n",
        "def update_graph(programme_name,\n",
        "                 year_value,\n",
        "                 summary_type):\n",
        "    dff = df.loc[df['Year'] == year_value] # find rows that have the right year value\n",
        "    # Need to build up the numbers as lists. \n",
        "    \n",
        "    if summary_type == 'Combined':\n",
        "        nDegree_class=[]\n",
        "        for idx, degree_class in enumerate(degree_classes):# loop through list of degree classes and count occurances of each one in dff\n",
        "          nDegree_class.append(sum((dff[\"Programme Title\"]== programme_name) & (dff[\"Class Name Short\"] == degree_class)))\n",
        "  \n",
        "        fig = px.bar(x = degree_classes,\n",
        "                     y = nDegree_class)\n",
        "                     \n",
        "        # fig.update_layout(margin={'l': 40, 'b': 40, 't': 10, 'r': 0}, hovermode='closest')\n",
        "\n",
        "        fig.update_xaxes(title='Degree Classification')#), \n",
        "                     #type='linear') # if xaxis_type == 'Linear' else 'log') \n",
        "\n",
        "        fig.update_yaxes(title='Number', \n",
        "                         type='linear') # if yaxis_type == 'Linear' else 'log')\n",
        "     \n",
        "    else:\n",
        "        nMEng_class=[]\n",
        "        nBEng_class=[]\n",
        "        for idx, degree_class in enumerate(degree_classes):# loop through list of degree classes and count occurances of each one in dff\n",
        "            nMEng_class.append(sum((dff[\"Programme Title\"]== programme_name) & (dff[\"Class Name Short\"] == degree_class) & \n",
        "                                   (dff[\"Award Short Name\"] == 'M.Eng.')))\n",
        "            nBEng_class.append(sum((dff[\"Programme Title\"]== programme_name) & (dff[\"Class Name Short\"] == degree_class) & \n",
        "                                   (dff[\"Award Short Name\"] == 'B.Eng.')))\n",
        "  \n",
        "        fig = go.Figure(data=[\n",
        "           go.Bar(name='MEng', x = degree_classes, y = nMEng_class),\n",
        "           go.Bar(name='BEng', x = degree_classes, y = nBEng_class)])\n",
        "       \n",
        "                     \n",
        "   \n",
        "        fig.update_layout(margin={'l': 40, 'b': 40, 't': 10, 'r': 0}, hovermode='closest', barmode='stack')\n",
        "\n",
        "        fig.update_xaxes(title='Degree Classification')#), \n",
        "                     #type='linear') # if xaxis_type == 'Linear' else 'log') \n",
        "\n",
        "        fig.update_yaxes(title='Number', \n",
        "                         type='linear') # if yaxis_type == 'Linear' else 'log')\n",
        "\n",
        "    return fig\n",
        "\n",
        "\n",
        "\n",
        "if __name__ == '__main__':\n",
        "    app.run_server(debug=True, port=8053)"
      ],
      "outputs": [
        {
          "output_type": "stream",
          "name": "stdout",
          "text": [
            "Dash app running on http://127.0.0.1:8053/\n"
          ]
        }
      ],
      "execution_count": 4,
      "metadata": {
        "collapsed": true,
        "jupyter": {
          "source_hidden": false,
          "outputs_hidden": false
        },
        "nteract": {
          "transient": {
            "deleting": false
          }
        },
        "execution": {
          "iopub.status.busy": "2020-07-16T09:13:35.670Z",
          "iopub.execute_input": "2020-07-16T09:13:35.677Z",
          "iopub.status.idle": "2020-07-16T09:13:35.722Z",
          "shell.execute_reply": "2020-07-16T09:13:35.735Z"
        }
      }
    }
  ],
  "metadata": {
    "kernel_info": {
      "name": "python3"
    },
    "language_info": {
      "name": "python",
      "version": "3.7.7",
      "mimetype": "text/x-python",
      "codemirror_mode": {
        "name": "ipython",
        "version": 3
      },
      "pygments_lexer": "ipython3",
      "nbconvert_exporter": "python",
      "file_extension": ".py"
    },
    "kernelspec": {
      "argv": [
        "/Users/simonmartin/anaconda3/bin/python",
        "-m",
        "ipykernel_launcher",
        "-f",
        "{connection_file}"
      ],
      "display_name": "Python 3",
      "language": "python",
      "name": "python3"
    },
    "nteract": {
      "version": "0.24.0"
    }
  },
  "nbformat": 4,
  "nbformat_minor": 0
}